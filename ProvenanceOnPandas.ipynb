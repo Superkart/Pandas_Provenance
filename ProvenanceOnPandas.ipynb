{
  "nbformat": 4,
  "nbformat_minor": 0,
  "metadata": {
    "colab": {
      "provenance": [],
      "authorship_tag": "ABX9TyPkAI/IcN32DWjB4HCozTzE",
      "include_colab_link": true
    },
    "kernelspec": {
      "name": "python3",
      "display_name": "Python 3"
    },
    "language_info": {
      "name": "python"
    }
  },
  "cells": [
    {
      "cell_type": "markdown",
      "metadata": {
        "id": "view-in-github",
        "colab_type": "text"
      },
      "source": [
        "<a href=\"https://colab.research.google.com/github/Superkart/Pandas_Provenance/blob/main/ProvenanceOnPandas.ipynb\" target=\"_parent\"><img src=\"https://colab.research.google.com/assets/colab-badge.svg\" alt=\"Open In Colab\"/></a>"
      ]
    },
    {
      "cell_type": "markdown",
      "source": [
        "# Purpose\n",
        "- This notebook initializes the setup for a Pandas Provenance Tracker.\n",
        "- The goal is to manually track the provenance of data transformations performed on pandas DataFrames.\n",
        "- Provenance tracking allows for transparency, reproducibility, and accountability in data workflows by maintaining a detailed log of operations and changes to data over time."
      ],
      "metadata": {
        "id": "w0j65sqQ3rWX"
      }
    },
    {
      "cell_type": "markdown",
      "source": [
        "# 1. Importing Libraries\n"
      ],
      "metadata": {
        "id": "KD19ZwxB9wIr"
      }
    },
    {
      "cell_type": "code",
      "source": [
        "import pandas as pd\n",
        "import numpy as np\n",
        "from datetime import datetime\n",
        "import os"
      ],
      "metadata": {
        "id": "YuSsFSnX9gU6"
      },
      "execution_count": 23,
      "outputs": []
    },
    {
      "cell_type": "markdown",
      "source": [
        "# 2. Mounting Drive\n",
        "Here we will be mounting our google drive, so that we can access tables and later on store the Provenance Tables"
      ],
      "metadata": {
        "id": "sxKcEFkH99jr"
      }
    },
    {
      "cell_type": "code",
      "source": [
        "from google.colab import drive\n",
        "drive.mount('/content/drive')"
      ],
      "metadata": {
        "id": "oDVg63v799yf",
        "outputId": "80295a14-f3b9-4508-bde6-5ace9013fe38",
        "colab": {
          "base_uri": "https://localhost:8080/"
        }
      },
      "execution_count": 24,
      "outputs": [
        {
          "output_type": "stream",
          "name": "stdout",
          "text": [
            "Drive already mounted at /content/drive; to attempt to forcibly remount, call drive.mount(\"/content/drive\", force_remount=True).\n"
          ]
        }
      ]
    },
    {
      "cell_type": "markdown",
      "source": [
        "# 3. Provenance Storage"
      ],
      "metadata": {
        "id": "Bp8WhCsqf2mF"
      }
    },
    {
      "cell_type": "code",
      "source": [
        "PROVENANCE_LOG_PATH = '/content/drive/My Drive/Pandas_Provenance/provenance_log.csv'"
      ],
      "metadata": {
        "id": "-5Z81Xs2f9Uk"
      },
      "execution_count": 25,
      "outputs": []
    },
    {
      "cell_type": "markdown",
      "source": [
        "# 4. Custom Provenance Class"
      ],
      "metadata": {
        "id": "YMPGgoFe-1_W"
      }
    },
    {
      "cell_type": "code",
      "source": [
        "class ProvenanceDataFrame:\n",
        "    def __init__(self, data, provenance_path=PROVENANCE_LOG_PATH):\n",
        "        self.data = data\n",
        "        self.provenance_path = provenance_path\n",
        "        self.prov_table = self._load_provenance()\n",
        "\n",
        "    def _load_provenance(self):\n",
        "        # Load existing provenance table or create a new one\n",
        "        if os.path.exists(self.provenance_path):\n",
        "            return pd.read_csv(self.provenance_path)\n",
        "        else:\n",
        "            return pd.DataFrame(columns=[\"operation\", \"details\", \"shape\", \"timestamp\", \"reason\"])\n",
        "\n",
        "    def _save_provenance(self):\n",
        "        # Save provenance table to file\n",
        "        self.prov_table.to_csv(self.provenance_path, index=False)\n",
        "\n",
        "    def add_provenance_entry(self, operation, details, shape, reason=\"\"):\n",
        "        # Add a new entry to the provenance table\n",
        "        entry = {\n",
        "            \"operation\": operation,\n",
        "            \"details\": details,\n",
        "            \"shape\": shape,\n",
        "            \"timestamp\": datetime.now().strftime(\"%Y-%m-%d %H:%M:%S\"),\n",
        "            \"reason\": reason\n",
        "        }\n",
        "        self.prov_table = self.prov_table.append(entry, ignore_index=True)\n",
        "        self._save_provenance()\n",
        "\n",
        "    def get_provenance(self):\n",
        "\n",
        "      return self.prov_table\n",
        "\n"
      ],
      "metadata": {
        "id": "ETavpnPx-2PE"
      },
      "execution_count": 26,
      "outputs": []
    },
    {
      "cell_type": "markdown",
      "source": [
        "# 5. Overriding Pandas Methods\n",
        "Here we will start overriding the standard methods of pandas and add provenance tracking to it"
      ],
      "metadata": {
        "id": "z9u5LElQ_Y17"
      }
    },
    {
      "cell_type": "markdown",
      "source": [
        "## 5.1 read_csv()"
      ],
      "metadata": {
        "id": "HGoXlYOL_qC2"
      }
    },
    {
      "cell_type": "code",
      "source": [
        "    @staticmethod\n",
        "    def read_csv(filepath, provenance_path=PROVENANCE_LOG_PATH):\n",
        "        # Custom read_csv method to initialize ProvenanceDataFrame\n",
        "        df = pd.read_csv(filepath)\n",
        "        return ProvenanceDataFrame(df, provenance_path=provenance_path)"
      ],
      "metadata": {
        "id": "Pt7bQ6Rl_ZXP"
      },
      "execution_count": 27,
      "outputs": []
    },
    {
      "cell_type": "markdown",
      "source": [
        "## 5.2 Selection - loc()"
      ],
      "metadata": {
        "id": "dNPbNX8W_4Uv"
      }
    },
    {
      "cell_type": "code",
      "source": [
        "    def loc(self, condition, reason=\"\"):\n",
        "        # Override loc to track provenance for selection\n",
        "        selected_data = self.data.loc[condition]\n",
        "        details = f\"Condition: {condition}\"\n",
        "        shape = selected_data.shape\n",
        "        self.add_provenance_entry(\"selection\", details, shape, reason)\n",
        "        return ProvenanceDataFrame(selected_data, provenance_path=self.provenance_path)\n"
      ],
      "metadata": {
        "id": "_LH7xdOL-Q5y"
      },
      "execution_count": 38,
      "outputs": []
    },
    {
      "cell_type": "markdown",
      "source": [
        "## 5.3 Projection - getitem"
      ],
      "metadata": {
        "id": "gYjYotJGAFQT"
      }
    },
    {
      "cell_type": "code",
      "source": [
        "    def __getitem__(self, columns):\n",
        "        # Override __getitem__ for column projection\n",
        "        if isinstance(columns, list):\n",
        "            projected_data = self.data[columns]\n",
        "            details = f\"Columns: {columns}\"\n",
        "            shape = projected_data.shape\n",
        "            self.add_provenance_entry(\"projection\", details, shape)\n",
        "            return ProvenanceDataFrame(projected_data, provenance_path=self.provenance_path)\n",
        "        else:\n",
        "            return self.data[columns]\n"
      ],
      "metadata": {
        "id": "j4-pbQecA0lJ"
      },
      "execution_count": 29,
      "outputs": []
    },
    {
      "cell_type": "markdown",
      "source": [
        "# 6. Getting Data From CSV\n"
      ],
      "metadata": {
        "id": "ZXT3rFjSA25c"
      }
    },
    {
      "cell_type": "code",
      "source": [
        "# Initialize the ProvenanceDataFrame\n",
        "prov_df = read_csv('/content/drive/My Drive/Pandas_Provenance/color_srgb.csv', PROVENANCE_LOG_PATH)\n"
      ],
      "metadata": {
        "id": "F-4XZnfkBDj4"
      },
      "execution_count": 36,
      "outputs": []
    },
    {
      "cell_type": "markdown",
      "source": [
        "# Testing"
      ],
      "metadata": {
        "id": "HW74Rk5aEUqm"
      }
    },
    {
      "cell_type": "code",
      "source": [
        "# Selection with loc\n",
        "selected_df = prov_df.loc(prov_df.data['age'] > 30, reason=\"Filter rows where age > 30\")\n",
        "\n",
        "# Projection (column selection)\n",
        "projected_df = prov_df[['name', 'age']]\n",
        "\n",
        "# View Provenance Table\n",
        "print(\"Provenance Table:\")\n",
        "print(prov_df.prov_table)\n"
      ],
      "metadata": {
        "id": "hdjEbFnmEUXb",
        "outputId": "faba7738-efc2-4883-df0e-af93f104cba3",
        "colab": {
          "base_uri": "https://localhost:8080/",
          "height": 211
        }
      },
      "execution_count": 39,
      "outputs": [
        {
          "output_type": "error",
          "ename": "AttributeError",
          "evalue": "'ProvenanceDataFrame' object has no attribute 'loc'",
          "traceback": [
            "\u001b[0;31m---------------------------------------------------------------------------\u001b[0m",
            "\u001b[0;31mAttributeError\u001b[0m                            Traceback (most recent call last)",
            "\u001b[0;32m<ipython-input-39-bd02443646fb>\u001b[0m in \u001b[0;36m<cell line: 2>\u001b[0;34m()\u001b[0m\n\u001b[1;32m      1\u001b[0m \u001b[0;31m# Selection with loc\u001b[0m\u001b[0;34m\u001b[0m\u001b[0;34m\u001b[0m\u001b[0m\n\u001b[0;32m----> 2\u001b[0;31m \u001b[0mselected_df\u001b[0m \u001b[0;34m=\u001b[0m \u001b[0mprov_df\u001b[0m\u001b[0;34m.\u001b[0m\u001b[0mloc\u001b[0m\u001b[0;34m(\u001b[0m\u001b[0mprov_df\u001b[0m\u001b[0;34m.\u001b[0m\u001b[0mdata\u001b[0m\u001b[0;34m[\u001b[0m\u001b[0;34m'age'\u001b[0m\u001b[0;34m]\u001b[0m \u001b[0;34m>\u001b[0m \u001b[0;36m30\u001b[0m\u001b[0;34m,\u001b[0m \u001b[0mreason\u001b[0m\u001b[0;34m=\u001b[0m\u001b[0;34m\"Filter rows where age > 30\"\u001b[0m\u001b[0;34m)\u001b[0m\u001b[0;34m\u001b[0m\u001b[0;34m\u001b[0m\u001b[0m\n\u001b[0m\u001b[1;32m      3\u001b[0m \u001b[0;34m\u001b[0m\u001b[0m\n\u001b[1;32m      4\u001b[0m \u001b[0;31m# Projection (column selection)\u001b[0m\u001b[0;34m\u001b[0m\u001b[0;34m\u001b[0m\u001b[0m\n\u001b[1;32m      5\u001b[0m \u001b[0mprojected_df\u001b[0m \u001b[0;34m=\u001b[0m \u001b[0mprov_df\u001b[0m\u001b[0;34m[\u001b[0m\u001b[0;34m[\u001b[0m\u001b[0;34m'name'\u001b[0m\u001b[0;34m,\u001b[0m \u001b[0;34m'age'\u001b[0m\u001b[0;34m]\u001b[0m\u001b[0;34m]\u001b[0m\u001b[0;34m\u001b[0m\u001b[0;34m\u001b[0m\u001b[0m\n",
            "\u001b[0;31mAttributeError\u001b[0m: 'ProvenanceDataFrame' object has no attribute 'loc'"
          ]
        }
      ]
    }
  ]
}
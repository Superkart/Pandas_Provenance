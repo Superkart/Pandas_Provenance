{
  "nbformat": 4,
  "nbformat_minor": 0,
  "metadata": {
    "colab": {
      "provenance": [],
      "authorship_tag": "ABX9TyOnNFX9YpXakUbgsxa4L/9t",
      "include_colab_link": true
    },
    "kernelspec": {
      "name": "python3",
      "display_name": "Python 3"
    },
    "language_info": {
      "name": "python"
    }
  },
  "cells": [
    {
      "cell_type": "markdown",
      "metadata": {
        "id": "view-in-github",
        "colab_type": "text"
      },
      "source": [
        "<a href=\"https://colab.research.google.com/github/Superkart/Pandas_Provenance/blob/main/ProvenanceOnPandas.ipynb\" target=\"_parent\"><img src=\"https://colab.research.google.com/assets/colab-badge.svg\" alt=\"Open In Colab\"/></a>"
      ]
    },
    {
      "cell_type": "markdown",
      "source": [
        "# Purpose\n",
        "- This notebook initializes the setup for a Pandas Provenance Tracker.\n",
        "- The goal is to manually track the provenance of data transformations performed on pandas DataFrames.\n",
        "- Provenance tracking allows for transparency, reproducibility, and accountability in data workflows by maintaining a detailed log of operations and changes to data over time."
      ],
      "metadata": {
        "id": "w0j65sqQ3rWX"
      }
    },
    {
      "cell_type": "markdown",
      "source": [
        "# 1. Importing Libraries\n"
      ],
      "metadata": {
        "id": "KD19ZwxB9wIr"
      }
    },
    {
      "cell_type": "code",
      "source": [
        "import pandas as pd\n",
        "import numpy as np\n",
        "from datetime import datetime\n",
        "import os"
      ],
      "metadata": {
        "id": "YuSsFSnX9gU6"
      },
      "execution_count": 132,
      "outputs": []
    },
    {
      "cell_type": "markdown",
      "source": [
        "# 2. Mounting Drive\n",
        "Here we will be mounting our google drive, so that we can access tables and later on store the Provenance Tables"
      ],
      "metadata": {
        "id": "sxKcEFkH99jr"
      }
    },
    {
      "cell_type": "code",
      "source": [
        "from google.colab import drive\n",
        "drive.mount('/content/drive')"
      ],
      "metadata": {
        "id": "oDVg63v799yf",
        "outputId": "7824f23a-98dd-483c-90a4-6339d3b50517",
        "colab": {
          "base_uri": "https://localhost:8080/"
        }
      },
      "execution_count": 133,
      "outputs": [
        {
          "output_type": "stream",
          "name": "stdout",
          "text": [
            "Drive already mounted at /content/drive; to attempt to forcibly remount, call drive.mount(\"/content/drive\", force_remount=True).\n"
          ]
        }
      ]
    },
    {
      "cell_type": "markdown",
      "source": [
        "# 3. Provenance Storage"
      ],
      "metadata": {
        "id": "Bp8WhCsqf2mF"
      }
    },
    {
      "cell_type": "code",
      "source": [
        "Provenance_File_Path = '/content/drive/My Drive/Pandas_Provenance/provenance_log.csv'"
      ],
      "metadata": {
        "id": "-5Z81Xs2f9Uk"
      },
      "execution_count": 134,
      "outputs": []
    },
    {
      "cell_type": "markdown",
      "source": [
        "# 4. Persistant Provenance\n",
        "\n"
      ],
      "metadata": {
        "id": "fTaqZWY8zw5f"
      }
    },
    {
      "cell_type": "code",
      "source": [
        "if os.path.exists(Provenance_File_Path):\n",
        "    provenance_store = pd.read_csv(Provenance_File_Path)\n",
        "else:\n",
        "    provenance_store = pd.DataFrame(columns=[\"table_id\", \"operation\", \"details\", \"shape\", \"timestamp\"])\n",
        "    provenance_store.to_csv(Provenance_File_Path, index=False)\n",
        "\n",
        "def save_provenance_to_file():\n",
        "    provenance_store.to_csv(Provenance_File_Path, index=False)"
      ],
      "metadata": {
        "id": "eidHZUawz12S"
      },
      "execution_count": 135,
      "outputs": []
    },
    {
      "cell_type": "markdown",
      "source": [
        "# 5. Custom Provenance Class"
      ],
      "metadata": {
        "id": "YMPGgoFe-1_W"
      }
    },
    {
      "cell_type": "code",
      "source": [
        "class ProvenanceDataFrame(pd.DataFrame):\n",
        "    _metadata = [\"prov_table\"]\n",
        "\n",
        "    def __init__(self, *args, prov_table=None, **kwargs):\n",
        "        super().__init__(*args, **kwargs)\n",
        "        self.prov_table = prov_table or pd.DataFrame(columns=[\"operation\", \"details\", \"shape\", \"timestamp\"])\n",
        "\n",
        "    @property\n",
        "    def _constructor(self):\n",
        "        def wrapped_constructor(*args, **kwargs):\n",
        "            return ProvenanceDataFrame(*args, prov_table=self.prov_table, **kwargs)\n",
        "        return wrapped_constructor\n",
        "\n",
        "    def log_provenance(self, operation, details):\n",
        "\n",
        "        timestamp = datetime.now().isoformat()\n",
        "        shape = self.shape\n",
        "        new_entry = {\n",
        "            \"table_id\": id(self),\n",
        "            \"operation\": operation,\n",
        "            \"details\": details,\n",
        "            \"shape\": shape,\n",
        "            \"timestamp\": timestamp,\n",
        "        }\n",
        "\n",
        "        self.prov_table = pd.concat([self.prov_table, pd.DataFrame([new_entry])], ignore_index=True)\n",
        "\n",
        "        global provenance_store\n",
        "        provenance_store = pd.concat([provenance_store, pd.DataFrame([new_entry])], ignore_index=True)\n",
        "        save_provenance_to_file()\n",
        "\n",
        "    def get_provenance(self):\n",
        "\n",
        "        return self.prov_table\n",
        "\n",
        "### OVERRIDING METHODS\n",
        "\n",
        "    @staticmethod\n",
        "    def read_csv(filepath):\n",
        "\n",
        "        df = pd.read_csv(filepath)\n",
        "        prov_df = ProvenanceDataFrame(df)\n",
        "        prov_df.log_provenance(\"read_csv\", f\"Loaded CSV file: {filepath}\")\n",
        "        return prov_df\n",
        "\n",
        "    def __getitem__(self, key):\n",
        "\n",
        "      result = super().__getitem__(key)\n",
        "      if isinstance(result, pd.DataFrame):\n",
        "          new_df = ProvenanceDataFrame(result, self.prov_table.copy())\n",
        "          if isinstance(key, pd.Series):\n",
        "              new_df.log_provenance(\"selection\", f\"Row filtering with condition: {key}\")\n",
        "          return new_df\n",
        "      return result\n",
        "\n",
        "    def loc(self, *args, **kwargs):\n",
        "        result = super(ProvenanceDataFrame, self).loc(*args, **kwargs)\n",
        "        if isinstance(result, pd.DataFrame):\n",
        "            new_df = ProvenanceDataFrame(result, self.prov_table.copy())\n",
        "            new_df.log_provenance(\"projection\", f\"Projected columns with loc: {args}, {kwargs}\")\n",
        "            return new_df\n",
        "        return result\n",
        "\n",
        "    def __setitem__(self, key, value):\n",
        "\n",
        "      self.log_provenance(\"modification\", f\"Modified/added column: {key}\")\n",
        "      super().__setitem__(key, value)\n",
        "\n",
        "\n"
      ],
      "metadata": {
        "id": "ETavpnPx-2PE"
      },
      "execution_count": 136,
      "outputs": []
    },
    {
      "cell_type": "markdown",
      "source": [
        "# 6. Overriding Pandas Methods\n",
        "Here we will start overriding the standard methods of pandas and add provenance tracking to it"
      ],
      "metadata": {
        "id": "z9u5LElQ_Y17"
      }
    },
    {
      "cell_type": "markdown",
      "source": [
        "## 6.1 Selection - __getitem__()"
      ],
      "metadata": {
        "id": "dNPbNX8W_4Uv"
      }
    },
    {
      "cell_type": "markdown",
      "source": [
        "## 6.3 Projection - **loc()**"
      ],
      "metadata": {
        "id": "gYjYotJGAFQT"
      }
    },
    {
      "cell_type": "code",
      "source": [
        "\"\"\"\n",
        "def loc(self, *args, **kwargs):\n",
        "\n",
        "    result = pd.DataFrame.loc(self, *args, **kwargs)\n",
        "    if isinstance(result, pd.DataFrame):\n",
        "        # Handle as a ProvenanceDataFrame if the result is a DataFrame\n",
        "        new_df = ProvenanceDataFrame(result, self.prov_table.copy())\n",
        "        new_df.log_provenance(\"projection\", f\"Projected columns with loc: {args}, {kwargs}\")\n",
        "        return new_df\n",
        "    return result\n",
        "\"\"\""
      ],
      "metadata": {
        "id": "j4-pbQecA0lJ",
        "outputId": "edbf7990-b743-418c-f3a8-0497bb9ffe1c",
        "colab": {
          "base_uri": "https://localhost:8080/",
          "height": 70
        }
      },
      "execution_count": 137,
      "outputs": [
        {
          "output_type": "execute_result",
          "data": {
            "text/plain": [
              "'\\ndef loc(self, *args, **kwargs):\\n\\n    result = pd.DataFrame.loc(self, *args, **kwargs)  \\n    if isinstance(result, pd.DataFrame):\\n        # Handle as a ProvenanceDataFrame if the result is a DataFrame\\n        new_df = ProvenanceDataFrame(result, self.prov_table.copy())\\n        new_df.log_provenance(\"projection\", f\"Projected columns with loc: {args}, {kwargs}\")\\n        return new_df\\n    return result\\n'"
            ],
            "application/vnd.google.colaboratory.intrinsic+json": {
              "type": "string"
            }
          },
          "metadata": {},
          "execution_count": 137
        }
      ]
    },
    {
      "cell_type": "markdown",
      "source": [
        "# 6.4 Modification - **__setitem__()**"
      ],
      "metadata": {
        "id": "UuRKBazN4PD1"
      }
    },
    {
      "cell_type": "code",
      "source": [
        "\"\"\"\n",
        "def __setitem__(self, key, value):\n",
        "\n",
        "    self.log_provenance(\"modification\", f\"Modified/added column: {key}\")\n",
        "    pd.DataFrame.__setitem__(self, key, value)\n",
        "\"\"\""
      ],
      "metadata": {
        "id": "nkZvSogg4kyj",
        "outputId": "2d308191-b3af-436a-fec5-0db2e3fd5f53",
        "colab": {
          "base_uri": "https://localhost:8080/",
          "height": 35
        }
      },
      "execution_count": 138,
      "outputs": [
        {
          "output_type": "execute_result",
          "data": {
            "text/plain": [
              "'\\ndef __setitem__(self, key, value):\\n  \\n    self.log_provenance(\"modification\", f\"Modified/added column: {key}\")\\n    pd.DataFrame.__setitem__(self, key, value)\\n'"
            ],
            "application/vnd.google.colaboratory.intrinsic+json": {
              "type": "string"
            }
          },
          "metadata": {},
          "execution_count": 138
        }
      ]
    },
    {
      "cell_type": "markdown",
      "source": [
        "# 6. Getting Data From CSV\n"
      ],
      "metadata": {
        "id": "ZXT3rFjSA25c"
      }
    },
    {
      "cell_type": "code",
      "source": [
        "prov_df = ProvenanceDataFrame.read_csv('/content/drive/My Drive/Pandas_Provenance/color_srgb.csv')\n"
      ],
      "metadata": {
        "id": "F-4XZnfkBDj4"
      },
      "execution_count": 139,
      "outputs": []
    },
    {
      "cell_type": "markdown",
      "source": [
        "# Testing"
      ],
      "metadata": {
        "id": "HW74Rk5aEUqm"
      }
    },
    {
      "cell_type": "code",
      "source": [
        "print(\"Loaded DataFrame:\")\n",
        "print(prov_df)\n",
        "\n",
        "\"\"\"\n",
        "selected_df = prov_df.loc[prov_df['Name'] == 'Red']\n",
        "print(\"\\nSelected DataFrame:\")\n",
        "print(selected_df)\n",
        "\"\"\"\n",
        "projected_df = prov_df.loc[:, ['Name', 'HEX']]\n",
        "print(\"\\nProjected DataFrame:\")\n",
        "print(projected_df)\n",
        "\n",
        "selected_df_2 = prov_df[prov_df['HEX'] == '#FF0000']\n",
        "print(\"\\nSelected DataFrame (HEX = #FF0000):\")\n",
        "print(selected_df_2)\n",
        "\n",
        "print(\"\\nProvenance Log:\")\n",
        "print(prov_df.get_provenance())"
      ],
      "metadata": {
        "id": "hdjEbFnmEUXb",
        "outputId": "4a0ef7e1-96d0-4ff5-8b12-880b831f51e7",
        "colab": {
          "base_uri": "https://localhost:8080/",
          "height": 523
        }
      },
      "execution_count": 140,
      "outputs": [
        {
          "output_type": "stream",
          "name": "stdout",
          "text": [
            "Loaded DataFrame:\n",
            "       Name      HEX               RGB\n",
            "0     White  #FFFFFF  rgb(100,100,100)\n",
            "1    Silver  #C0C0C0     rgb(75,75,75)\n",
            "2      Gray  #808080     rgb(50,50,50)\n",
            "3     Black  #000000        rgb(0,0,0)\n",
            "4       Red  #FF0000      rgb(100,0,0)\n",
            "5    Maroon  #800000       rgb(50,0,0)\n",
            "6    Yellow  #FFFF00    rgb(100,100,0)\n",
            "7     Olive  #808000      rgb(50,50,0)\n",
            "8      Lime  #00FF00      rgb(0,100,0)\n",
            "9     Green  #008000       rgb(0,50,0)\n",
            "10     Aqua  #00FFFF    rgb(0,100,100)\n",
            "11     Teal  #008080      rgb(0,50,50)\n",
            "12     Blue  #0000FF      rgb(0,0,100)\n",
            "13     Navy  #000080       rgb(0,0,50)\n",
            "14  Fuchsia  #FF00FF    rgb(100,0,100)\n",
            "15   Purple  #800080      rgb(50,0,50)\n"
          ]
        },
        {
          "output_type": "error",
          "ename": "TypeError",
          "evalue": "'method' object is not subscriptable",
          "traceback": [
            "\u001b[0;31m---------------------------------------------------------------------------\u001b[0m",
            "\u001b[0;31mTypeError\u001b[0m                                 Traceback (most recent call last)",
            "\u001b[0;32m<ipython-input-140-a5760680752b>\u001b[0m in \u001b[0;36m<cell line: 9>\u001b[0;34m()\u001b[0m\n\u001b[1;32m      7\u001b[0m \u001b[0mprint\u001b[0m\u001b[0;34m(\u001b[0m\u001b[0mselected_df\u001b[0m\u001b[0;34m)\u001b[0m\u001b[0;34m\u001b[0m\u001b[0;34m\u001b[0m\u001b[0m\n\u001b[1;32m      8\u001b[0m \"\"\"\n\u001b[0;32m----> 9\u001b[0;31m \u001b[0mprojected_df\u001b[0m \u001b[0;34m=\u001b[0m \u001b[0mprov_df\u001b[0m\u001b[0;34m.\u001b[0m\u001b[0mloc\u001b[0m\u001b[0;34m[\u001b[0m\u001b[0;34m:\u001b[0m\u001b[0;34m,\u001b[0m \u001b[0;34m[\u001b[0m\u001b[0;34m'Name'\u001b[0m\u001b[0;34m,\u001b[0m \u001b[0;34m'HEX'\u001b[0m\u001b[0;34m]\u001b[0m\u001b[0;34m]\u001b[0m\u001b[0;34m\u001b[0m\u001b[0;34m\u001b[0m\u001b[0m\n\u001b[0m\u001b[1;32m     10\u001b[0m \u001b[0mprint\u001b[0m\u001b[0;34m(\u001b[0m\u001b[0;34m\"\\nProjected DataFrame:\"\u001b[0m\u001b[0;34m)\u001b[0m\u001b[0;34m\u001b[0m\u001b[0;34m\u001b[0m\u001b[0m\n\u001b[1;32m     11\u001b[0m \u001b[0mprint\u001b[0m\u001b[0;34m(\u001b[0m\u001b[0mprojected_df\u001b[0m\u001b[0;34m)\u001b[0m\u001b[0;34m\u001b[0m\u001b[0;34m\u001b[0m\u001b[0m\n",
            "\u001b[0;31mTypeError\u001b[0m: 'method' object is not subscriptable"
          ]
        }
      ]
    }
  ]
}
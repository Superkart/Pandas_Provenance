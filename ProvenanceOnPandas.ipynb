{
  "nbformat": 4,
  "nbformat_minor": 0,
  "metadata": {
    "colab": {
      "provenance": [],
      "authorship_tag": "ABX9TyMFzuR5bUOWDbaaEhsznfg9",
      "include_colab_link": true
    },
    "kernelspec": {
      "name": "python3",
      "display_name": "Python 3"
    },
    "language_info": {
      "name": "python"
    }
  },
  "cells": [
    {
      "cell_type": "markdown",
      "metadata": {
        "id": "view-in-github",
        "colab_type": "text"
      },
      "source": [
        "<a href=\"https://colab.research.google.com/github/Superkart/Pandas_Provenance/blob/main/ProvenanceOnPandas.ipynb\" target=\"_parent\"><img src=\"https://colab.research.google.com/assets/colab-badge.svg\" alt=\"Open In Colab\"/></a>"
      ]
    },
    {
      "cell_type": "markdown",
      "source": [
        "## Purpose\n",
        "- This notebook initializes the setup for a Pandas Provenance Tracker.\n",
        "- The goal is to manually track the provenance of data transformations performed on pandas DataFrames.\n",
        "- Provenance tracking allows for transparency, reproducibility, and accountability in data workflows by maintaining a detailed log of operations and changes to data over time."
      ],
      "metadata": {
        "id": "w0j65sqQ3rWX"
      }
    },
    {
      "cell_type": "code",
      "execution_count": null,
      "metadata": {
        "id": "wtH4Q24Npbl5"
      },
      "outputs": [],
      "source": [
        "import pandas as pd\n",
        "from datetime import datetime\n",
        "import json"
      ]
    }
  ]
}